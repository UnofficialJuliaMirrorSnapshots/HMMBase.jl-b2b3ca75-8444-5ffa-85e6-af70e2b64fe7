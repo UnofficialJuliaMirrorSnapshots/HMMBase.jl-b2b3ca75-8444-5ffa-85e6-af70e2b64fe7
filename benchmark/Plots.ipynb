{
 "cells": [
  {
   "cell_type": "code",
   "execution_count": null,
   "metadata": {},
   "outputs": [],
   "source": [
    "using BenchmarkTools\n",
    "using Pandas\n",
    "using PyCall\n",
    "using PyPlot\n",
    "using JSON"
   ]
  },
  {
   "cell_type": "code",
   "execution_count": null,
   "metadata": {},
   "outputs": [],
   "source": [
    "obj = JSON.parse(open(\"../benchmark.json\"));"
   ]
  },
  {
   "cell_type": "code",
   "execution_count": null,
   "metadata": {},
   "outputs": [],
   "source": [
    "res = BenchmarkTools.load(IOBuffer(obj[\"benchmarkgroup\"]));"
   ]
  },
  {
   "cell_type": "code",
   "execution_count": null,
   "metadata": {},
   "outputs": [],
   "source": [
    "# https://seaborn.pydata.org/examples/grouped_boxplot.html\n",
    "# + simple boxplot for a 10-state HMM / 5000 observations"
   ]
  },
  {
   "cell_type": "code",
   "execution_count": null,
   "metadata": {},
   "outputs": [],
   "source": [
    "df = []\n",
    "\n",
    "for K in 2:2:10\n",
    "    for f in [\"forward\", \"backward\", \"viterbi\"]\n",
    "        push!(df, [\"hmmbase\", f, K, minimum(res[1][\"hmmbase\"][f][\"false\"][\"$K\"].times)])\n",
    "    end\n",
    "\n",
    "    for f in [\"forward\", \"backward\", \"viterbi\"]\n",
    "        push!(df, [\"hmmbase (log)\", f, K, minimum(res[1][\"hmmbase\"][f][\"true\"][\"$K\"].times)])\n",
    "    end\n",
    "    \n",
    "    for (f, fp) in [\"_do_forward_pass\" => \"forward\", \"_do_backward_pass\" => \"backward\", \"_do_viterbi_pass\" => \"viterbi\"]\n",
    "        push!(df, [\"hmmlearn\", fp, K, minimum(res[1][\"hmmlearn\"][f][\"$K\"].times)])\n",
    "    end\n",
    "\n",
    "    for (f, fp) in [\n",
    "            \"PyObject <function HMMStatesPython._messages_forwards_normalized at 0x7fd27e075560>\" => \"forward\",\n",
    "            \"PyObject <function HMMStatesPython._messages_backwards_normalized at 0x7fd27e075440>\" => \"backward\",\n",
    "            \"viterbi\" => \"viterbi\"\n",
    "    ]\n",
    "        push!(df, [\"pyhsmm\", fp, K, minimum(res[1][\"pyhsmm\"][f][\"$K\"].times)])\n",
    "    end\n",
    "end\n",
    "\n",
    "df = DataFrame(df, columns = [\"module\", \"method\", \"K\", \"mintime\"]);"
   ]
  },
  {
   "cell_type": "code",
   "execution_count": null,
   "metadata": {},
   "outputs": [],
   "source": [
    "sns = pyimport(\"seaborn\")\n",
    "sns.set_style(\"whitegrid\")"
   ]
  },
  {
   "cell_type": "code",
   "execution_count": null,
   "metadata": {},
   "outputs": [],
   "source": [
    "figure(figsize=(7,4))\n",
    "sns.barplot(x=\"method\", y=\"mintime\", hue=\"module\", data=df[df.K .== 10], palette=sns.color_palette(\"Paired\")[[2,1,7,5]])\n",
    "gca().set(yscale=\"log\")\n",
    "xlabel(\"\")\n",
    "ylabel(\"Minimum Time\")\n",
    "yticks([1e6, 1e7, 1e8], [\"1 ms\", \"10 ms\", \"100 ms\"])\n",
    "legend(frameon=false)\n",
    "title(\"10-state HMM - 5000 observations\")\n",
    "savefig(\"benchmark_summary.png\", bbox_inches = \"tight\", dpi = 300)"
   ]
  },
  {
   "cell_type": "code",
   "execution_count": null,
   "metadata": {},
   "outputs": [],
   "source": []
  },
  {
   "cell_type": "code",
   "execution_count": null,
   "metadata": {},
   "outputs": [],
   "source": []
  }
 ],
 "metadata": {
  "kernelspec": {
   "display_name": "Julia 1.2.0",
   "language": "julia",
   "name": "julia-1.2"
  },
  "language_info": {
   "file_extension": ".jl",
   "mimetype": "application/julia",
   "name": "julia",
   "version": "1.2.0"
  }
 },
 "nbformat": 4,
 "nbformat_minor": 4
}
